{
 "cells": [
  {
   "cell_type": "code",
   "execution_count": 1,
   "metadata": {},
   "outputs": [
    {
     "name": "stdout",
     "output_type": "stream",
     "text": [
      "Welcome to JupyROOT 6.10/04\n"
     ]
    }
   ],
   "source": [
    "import ROOT"
   ]
  },
  {
   "cell_type": "markdown",
   "metadata": {},
   "source": [
    "Add some sugar. With this you will get exception instead of null pointers."
   ]
  },
  {
   "cell_type": "code",
   "execution_count": 2,
   "metadata": {},
   "outputs": [
    {
     "name": "stdout",
     "output_type": "stream",
     "text": [
      "\n",
      "\u001b[1mRooFit v3.60 -- Developed by Wouter Verkerke and David Kirkby\u001b[0m \n",
      "                Copyright (C) 2000-2013 NIKHEF, University of California & Stanford University\n",
      "                All rights reserved, please read http://roofit.sourceforge.net/license.txt\n",
      "\n"
     ]
    }
   ],
   "source": [
    "def safe_factory(func):\n",
    "    def wrapper(self, *args):\n",
    "        result = func(self, *args)\n",
    "        if not result:\n",
    "            raise ValueError('invalid factory input \"%s\"' % args)\n",
    "        return result\n",
    "    return wrapper\n",
    "\n",
    "ROOT.RooWorkspace.factory = safe_factory(ROOT.RooWorkspace.factory)\n",
    "\n",
    "def safe_decorator(func):\n",
    "    def wrapper(self, *args):\n",
    "        result = func(self, *args)\n",
    "        if not result:\n",
    "            raise ValueError('cannot find %s' % args[0])\n",
    "        return result\n",
    "    return wrapper\n",
    "\n",
    "ROOT.RooWorkspace.data = safe_decorator(ROOT.RooWorkspace.data)\n",
    "ROOT.RooWorkspace.obj = safe_decorator(ROOT.RooWorkspace.obj)\n",
    "ROOT.RooWorkspace.var = safe_decorator(ROOT.RooWorkspace.var)\n",
    "ROOT.RooWorkspace.pdf = safe_decorator(ROOT.RooWorkspace.pdf)"
   ]
  },
  {
   "cell_type": "code",
   "execution_count": 9,
   "metadata": {},
   "outputs": [],
   "source": [
    "# define some constants\n",
    "WS_NAME = 'ws'\n",
    "\n",
    "# boundaries for variables\n",
    "MAX_SIGNAL = 100\n",
    "MAX_BACKGROUND = int(1E4)\n",
    "\n",
    "# expected values: just to initialize to a number, they will be fit on data\n",
    "# we create the workspace with number of signal events = 0. This variable\n",
    "# will be changed\n",
    "EXPECTED_BACKGROUND = int(5E3)\n",
    "EXPECTED_SIGNAL = 0\n",
    "\n",
    "ws = ROOT.RooWorkspace(WS_NAME)\n",
    "# just define the variables with their ranges\n",
    "# define the number of observed events: we are fixing the range from 0 to MAX_SIGNAL + MAX_BACKGROUND.\n",
    "# The variable is not initialized to a specific value\n",
    "ws.factory('nobs[0, {}]'.format((MAX_SIGNAL + MAX_BACKGROUND) * 10))\n",
    "ws.factory('ns[0, {}]'.format(MAX_SIGNAL)).setVal(EXPECTED_SIGNAL)\n",
    "ws.factory('nb[0, {}]'.format(MAX_BACKGROUND)).setVal(EXPECTED_BACKGROUND)\n",
    "\n"
   ]
  },
  {
   "cell_type": "code",
   "execution_count": 10,
   "metadata": {},
   "outputs": [
    {
     "name": "stdout",
     "output_type": "stream",
     "text": [
      "  1) RooRealVar:: nobs = 50500\n",
      "  2) RooRealVar::   ns = 0\n",
      "  3) RooRealVar::   nb = 5000\n"
     ]
    }
   ],
   "source": [
    "ws.allVars().Print(\"V\")"
   ]
  },
  {
   "cell_type": "code",
   "execution_count": null,
   "metadata": {},
   "outputs": [],
   "source": [
    "ws.factory('sigma_nb[%f]' % sigma_nb)\n",
    "    ws.factory('theta_nb[0, -5, 5]')\n",
    "    ws.factory('expr::nb(\"@0 * (1 + @1 * @2)\", {nb_expected, sigma_nb, theta_nb})')\n",
    "    ws.factory('sum::nexp(ns, nb)')\n",
    "    ws.factory('Poisson::pdf_phys(nobs, nexp)')\n",
    "    ws.factory('Gaussian::constr_nb(global_nb[0, -5, 5], theta_nb, 1)')\n",
    "    ws.factory('PROD:pdf(pdf_phys, constr_nb)')\n"
   ]
  }
 ],
 "metadata": {
  "kernelspec": {
   "display_name": "Python 2",
   "language": "python",
   "name": "python2"
  },
  "language_info": {
   "codemirror_mode": {
    "name": "ipython",
    "version": 2
   },
   "file_extension": ".py",
   "mimetype": "text/x-python",
   "name": "python",
   "nbconvert_exporter": "python",
   "pygments_lexer": "ipython2",
   "version": "2.7.13"
  }
 },
 "nbformat": 4,
 "nbformat_minor": 2
}
