{
 "cells": [
  {
   "cell_type": "markdown",
   "metadata": {},
   "source": [
    "# Jupyter notebook\n",
    "This is a jupyter notebook\n",
    "\n",
    "You can execute code in python and other languages.\n",
    "\n",
    "Select the next cell containing code and press shift + enter to execute. Repeat for the other cells (or from the menu Cell → Run All).\n",
    "\n",
    "$$n\\in\\mathbb{N} \\quad n\\!\\!\\!\\!\\! \\mod x \\neq 0 \\quad \\forall x > 1, x\\neq n$$"
   ]
  },
  {
   "cell_type": "code",
   "execution_count": null,
   "metadata": {},
   "outputs": [],
   "source": [
    "r = range(2, 1000)\n",
    "print ' '.join(map(str, [x for x in r if sum(x % d == 0 for d in r) < 2]))"
   ]
  },
  {
   "cell_type": "markdown",
   "metadata": {},
   "source": [
    "To see what you can do (visualization, interactive manipulation, magic commands, slides, ...) have a look to http://jupyter.org/"
   ]
  },
  {
   "cell_type": "markdown",
   "metadata": {},
   "source": [
    "## How to use ROOT"
   ]
  },
  {
   "cell_type": "code",
   "execution_count": null,
   "metadata": {},
   "outputs": [],
   "source": [
    "import ROOT"
   ]
  },
  {
   "cell_type": "code",
   "execution_count": null,
   "metadata": {},
   "outputs": [],
   "source": [
    "h = ROOT.TH1F(\"h\", \"Random Normal Distribution;x\", 500, -5, 5)\n",
    "h.FillRandom(\"gaus\", 1000000)\n",
    "\n",
    "canvas = ROOT.TCanvas()\n",
    "h.SetFillColor(ROOT.kOrange)\n",
    "h.SetLineWidth(2)\n",
    "h.Draw()\n",
    "canvas.Draw()   # remember this"
   ]
  },
  {
   "cell_type": "markdown",
   "metadata": {},
   "source": [
    "This is just a static image, we can do better"
   ]
  },
  {
   "cell_type": "code",
   "execution_count": null,
   "metadata": {},
   "outputs": [],
   "source": [
    "ROOT.enableJSVis()"
   ]
  },
  {
   "cell_type": "code",
   "execution_count": null,
   "metadata": {},
   "outputs": [],
   "source": [
    "# try to pass the mouse over, drag axes, zoom, move labels, right click, ...\n",
    "canvas.Draw()"
   ]
  },
  {
   "cell_type": "code",
   "execution_count": null,
   "metadata": {},
   "outputs": [],
   "source": [
    "ROOT.disableJSVis()  # if you don't want it anymore"
   ]
  },
  {
   "cell_type": "markdown",
   "metadata": {},
   "source": [
    "## What if you don't like Python\n",
    "Really?"
   ]
  },
  {
   "cell_type": "code",
   "execution_count": null,
   "metadata": {},
   "outputs": [],
   "source": [
    "%%cpp\n",
    "TH1F h(\"h\", \"h\", 500, -5, 5);\n",
    "h.FillRandom(\"gaus\", 100000);\n",
    "TCanvas canvas;\n",
    "h.Draw();\n",
    "canvas.Draw()"
   ]
  },
  {
   "cell_type": "markdown",
   "metadata": {},
   "source": [
    "## Tricks\n",
    "   * Use tab completion (start the name of a variable, function, ... press tab)\n",
    "   * Use the help: write the name of a function, class, ... with ? at the end, e.g. `ROOT.TH1F?` or `std.upper`?"
   ]
  },
  {
   "cell_type": "markdown",
   "metadata": {},
   "source": [
    "## Troubleshooting\n",
    "   * If you need to restart the session: in the menu, kernel → restart\n",
    "   * If you loose the connection, try to restart the ssh tunnel, otherwise you have to restart jupyter from lxplus"
   ]
  },
  {
   "cell_type": "code",
   "execution_count": null,
   "metadata": {},
   "outputs": [],
   "source": []
  }
 ],
 "metadata": {
  "kernelspec": {
   "display_name": "Python 2",
   "language": "python",
   "name": "python2"
  },
  "language_info": {
   "codemirror_mode": {
    "name": "ipython",
    "version": 2
   },
   "file_extension": ".py",
   "mimetype": "text/x-python",
   "name": "python",
   "nbconvert_exporter": "python",
   "pygments_lexer": "ipython2",
   "version": "2.7.13"
  }
 },
 "nbformat": 4,
 "nbformat_minor": 2
}
