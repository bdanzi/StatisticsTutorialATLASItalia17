{
 "cells": [
  {
   "cell_type": "code",
   "execution_count": null,
   "metadata": {},
   "outputs": [],
   "source": [
    "import ROOT\n",
    "from math import log, sqrt\n",
    "\n",
    "# silence most of the roofit message (bug in ROOT saturate jupyter stream)\n",
    "ROOT.RooMsgService.instance().getStream(1).removeTopic(ROOT.RooFit.NumIntegration)\n",
    "ROOT.RooMsgService.instance().getStream(1).removeTopic(ROOT.RooFit.Fitting)\n",
    "ROOT.RooMsgService.instance().getStream(1).removeTopic(ROOT.RooFit.Minimization)\n",
    "ROOT.RooMsgService.instance().getStream(1).removeTopic(ROOT.RooFit.InputArguments)\n",
    "ROOT.RooMsgService.instance().getStream(1).removeTopic(ROOT.RooFit.Eval)\n",
    "ROOT.RooMsgService.instance().setGlobalKillBelow(ROOT.RooFit.ERROR)\n",
    "\n",
    "ROOT.RooStats.AsymptoticCalculator.SetPrintLevel(-1)\n",
    "\n",
    "ROOT.enableJSVis()"
   ]
  },
  {
   "cell_type": "code",
   "execution_count": null,
   "metadata": {},
   "outputs": [],
   "source": [
    "f = ROOT.TFile.Open('../data/workspace.root')\n",
    "ws = f.Get(\"ws\")\n",
    "ws.Print()"
   ]
  },
  {
   "cell_type": "markdown",
   "metadata": {},
   "source": [
    "## Compute intervals on POI and plot profile likelihood ratio\n",
    "\n",
    "Here we are doing a measurement, in particular we are plotting the confidence level for the cross section using the ProfileLikelihoodCalculator. We are using real data. The study is repeated with / without systematics."
   ]
  },
  {
   "cell_type": "code",
   "execution_count": null,
   "metadata": {},
   "outputs": [],
   "source": [
    "# when doing interference you need only model config and data\n",
    "model_config = ws.obj('model_config')    # can also use the s+b model config\n",
    "data = ws.data('data_binned')            # real data\n",
    "\n",
    "canvas = ROOT.TCanvas()\n",
    "poi = model_config.GetParametersOfInterest().first()  # the cross section\n",
    "# do an initial fit\n",
    "model_config.GetPdf().fitTo(data, ROOT.RooFit.PrintLevel(-1))\n",
    "\n",
    "# create a profile likelihood calculator (it just compute the profile\n",
    "# likelihood, can perform a scan and find a confidence interval\n",
    "pl = ROOT.RooStats.ProfileLikelihoodCalculator(data, model_config)\n",
    "pl.SetConfidenceLevel(0.683)  # usual 1 sigma gaussian\n",
    "interval = pl.GetInterval()   # the real work\n",
    "lowerLimit = interval.LowerLimit(poi)\n",
    "upperLimit = interval.UpperLimit(poi)\n",
    "print \"[lower, upper] range: [%.3f, %.3f]\" % (lowerLimit, upperLimit)\n",
    "plot = ROOT.RooStats.LikelihoodIntervalPlot(interval)\n",
    "plot.Draw(\"tf1\")\n",
    "\n",
    "model_config.GetPdf().fitTo(data, ROOT.RooFit.PrintLevel(-1))\n",
    "# set the pull to be constant, in this way there are no systematic in the model\n",
    "# the error we get is the error as there were no systematic at all\n",
    "# we assume it to be the statistical error\n",
    "ROOT.RooStats.SetAllConstant(ws.set('pulls'))\n",
    "pl_nosys = ROOT.RooStats.ProfileLikelihoodCalculator(data, model_config)\n",
    "pl_nosys.SetConfidenceLevel(0.683)  # usual 1 sigma gaussian\n",
    "interval_nosys = pl_nosys.GetInterval()\n",
    "lowerLimit_nosys = interval_nosys.LowerLimit(poi)\n",
    "upperLimit_nosys = interval_nosys.UpperLimit(poi)\n",
    "print \"[lower, upper] range: [%.3f, %.3f]\" % (lowerLimit_nosys, upperLimit_nosys)\n",
    "interval.GetBestFitParameters().Print(\"V\")\n",
    "plot_nosys = ROOT.RooStats.LikelihoodIntervalPlot(interval_nosys)\n",
    "plot_nosys.Draw(\"tf1 same\")\n",
    "ROOT.RooStats.SetAllConstant(ws.set('pulls'), False)\n",
    "canvas.Draw()"
   ]
  },
  {
   "cell_type": "markdown",
   "metadata": {},
   "source": [
    "ProfileLikelihoodCalculator is not very used since it is not very flexible: difficult to tweak the profile likelihood scan plot, not possible to parallelize the computation of the likelihood for each point of the scan... Usually people do a manual scan, usually splitting the computation on different machines.\n",
    "\n",
    "Write a loop to do the scan using the profile likelihood object"
   ]
  },
  {
   "cell_type": "code",
   "execution_count": null,
   "metadata": {},
   "outputs": [],
   "source": [
    "model_config = ws.obj('model_config')\n",
    "data = ws.data('data_binned')\n",
    "\n",
    "nll = model_config.GetPdf().createNLL(data)\n",
    "poi = model_config.GetParametersOfInterest().first()\n",
    "pnll = nll.createProfile(ROOT.RooArgSet(poi))\n",
    "\n",
    "# compute the value of the profile likelihood ratio for xsection == 0\n",
    "poi.setVal(0)\n",
    "print pnll.getVal()  # this is the value of the profile likelihood for a particular value of the poi\n",
    "\n",
    "# plot it\n",
    "canvas = ROOT.TCanvas()\n",
    "# define a frame with the xsection on the xaxis\n",
    "frame = poi.frame()\n",
    "# plot the profile likelihood ratio on the frame\n",
    "pnll.plotOn(frame)\n",
    "frame.Draw()\n",
    "canvas.Draw()\n",
    "\n",
    "# repeat with no systematics (fixing NP to best values, to get the best value do a fit first)"
   ]
  },
  {
   "cell_type": "markdown",
   "metadata": {},
   "source": [
    "***EXERCIZE***: what is the significance of the excess from the previous plot?\n",
    "\n",
    "***EXERCIZE***: scan the mass $m_H$"
   ]
  },
  {
   "cell_type": "code",
   "execution_count": null,
   "metadata": {},
   "outputs": [],
   "source": [
    "# FILL HERE"
   ]
  },
  {
   "cell_type": "code",
   "execution_count": null,
   "metadata": {
    "collapsed": true
   },
   "outputs": [],
   "source": []
  }
 ],
 "metadata": {
  "kernelspec": {
   "display_name": "Python 2",
   "language": "python",
   "name": "python2"
  },
  "language_info": {
   "codemirror_mode": {
    "name": "ipython",
    "version": 2
   },
   "file_extension": ".py",
   "mimetype": "text/x-python",
   "name": "python",
   "nbconvert_exporter": "python",
   "pygments_lexer": "ipython2",
   "version": "2.7.13"
  }
 },
 "nbformat": 4,
 "nbformat_minor": 2
}
