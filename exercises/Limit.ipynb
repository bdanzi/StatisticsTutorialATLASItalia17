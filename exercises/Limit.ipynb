{
 "cells": [
  {
   "cell_type": "code",
   "execution_count": null,
   "metadata": {},
   "outputs": [],
   "source": [
    "import ROOT\n",
    "import numpy as np\n",
    "\n",
    "# silence most of the roofit message (bug in ROOT saturate jupyter stream)\n",
    "ROOT.RooMsgService.instance().getStream(1).removeTopic(ROOT.RooFit.NumIntegration)\n",
    "ROOT.RooMsgService.instance().getStream(1).removeTopic(ROOT.RooFit.Fitting)\n",
    "ROOT.RooMsgService.instance().getStream(1).removeTopic(ROOT.RooFit.Minimization)\n",
    "ROOT.RooMsgService.instance().getStream(1).removeTopic(ROOT.RooFit.InputArguments)\n",
    "ROOT.RooMsgService.instance().getStream(1).removeTopic(ROOT.RooFit.Eval)\n",
    "ROOT.RooMsgService.instance().setGlobalKillBelow(ROOT.RooFit.ERROR)\n",
    "\n",
    "ROOT.RooStats.AsymptoticCalculator.SetPrintLevel(-1)\n",
    "\n",
    "ROOT.enableJSVis()"
   ]
  },
  {
   "cell_type": "markdown",
   "metadata": {},
   "source": [
    "# Limits\n",
    "Set upper limit is not so different from computing the p-value of the background hypothesis as in the discovery. What you try to do is to exclude signal+background hypothesis with differenet value for the signal (cross section). Usually you are interested to get the set of hypothesis exlucuded at least at 95% CL (and using CLs).\n",
    "\n",
    "As dataset we are using real data which contains signal, so we expect difference between the observed and expected (under the hypothesis there is no signal) limit.\n",
    "\n",
    "Remember: this is for a fixed $m_H$"
   ]
  },
  {
   "cell_type": "code",
   "execution_count": null,
   "metadata": {
    "collapsed": true
   },
   "outputs": [],
   "source": [
    "f = ROOT.TFile.Open('../data/workspace.root')\n",
    "ws = f.Get(\"ws\")\n",
    "data = ws.data('data_binned')\n",
    "\n",
    "# we are trying to exclude xsection values doing a scan\n",
    "SCAN_MIN = 0\n",
    "SCAN_MAX = 0.3\n",
    "SCAN_NSTEPS = 50"
   ]
  },
  {
   "cell_type": "code",
   "execution_count": null,
   "metadata": {},
   "outputs": [],
   "source": [
    "# use the asymptotic calculator\n",
    "calculator = ROOT.RooStats.AsymptoticCalculator(ws.data('data_binned'),\n",
    "                                                ws.obj('b_model_config'),\n",
    "                                                ws.obj('sb_model_config'), False)\n",
    "calculator.SetOneSided(True)  # the kind of statistical test is defined on the asym calculator\n",
    "\n",
    "# this is the main object doing the \"hypothesis inversion\": it runs the scan on the cross section\n",
    "# finding the ones excluded at least at 95% CL\n",
    "inverter = ROOT.RooStats.HypoTestInverter(calculator)\n",
    "inverter.SetConfidenceLevel(0.95)\n",
    "inverter.SetFixedScan(SCAN_NSTEPS, SCAN_MIN, SCAN_MAX)  # there is also a smarter way without a scan\n",
    "inverter.UseCLs(True)\n",
    "\n",
    "result = inverter.GetInterval()  # get the final result\n",
    "print 'upper limit (obs)', result.UpperLimit()\n",
    "print 'upper limit (exp)', result.GetExpectedUpperLimit()\n",
    "\n",
    "# do a plot of the CLs vs cross section\n",
    "plot = ROOT.RooStats.HypoTestInverterPlot(\"plot\", \"plot\", result)\n",
    "canvas = ROOT.TCanvas()\n",
    "plot.Draw(\"CLb 2CL\")\n",
    "canvas.Draw()"
   ]
  },
  {
   "cell_type": "markdown",
   "metadata": {},
   "source": [
    "## StandardHypoTestInvDemo\n",
    "\n",
    "This is a popular macro to run exclusions. It saves the result in a file.  In the output file you will find a `HypoTestInverterResult` object (as the `result` variable in the example above). The good thig of this class it is mergiable. The usual workflow with heavy workspace is to submit the macro for one single cross section pointa and $m_H$ (or any other signal parameter) (you need to tweak the macro to change the output filename) and then to merge the result to get the final CLs plot."
   ]
  },
  {
   "cell_type": "code",
   "execution_count": null,
   "metadata": {},
   "outputs": [],
   "source": [
    "# if having problem here (too much output crash jupyter), open ROOT (root -l) and just execute these lines\n",
    "# .L ../StandardHypoTestInvDemo.C\n",
    "# StandardHypoTestInvDemo(\"test.root\", \"ws\", \"sb_model_config\", \"\", \"data_binned\", 2, 3, True, 50, 0, 0.3)\n",
    "#\n",
    "# or (probably better) copy this cell in a python standalone program (.py)\n",
    "ROOT.gROOT.ProcessLine('.L ../StandardHypoTestInvDemo.C')\n",
    "\n",
    "gr_observed = ROOT.TGraph()\n",
    "\n",
    "for imH, mH_value in enumerate(np.linspace(110, 130, 20)):\n",
    "    print mH_value\n",
    "    ws.var('mH').setVal(mH_value)\n",
    "    ws.writeToFile('test.root')\n",
    "    ROOT.StandardHypoTestInvDemo(\"test.root\",\n",
    "                                 \"ws\",\n",
    "                                 \"sb_model_config\", \"\",\n",
    "                                 \"data_binned\",\n",
    "                                 2,\n",
    "                                 3,\n",
    "                                 True,\n",
    "                                 SCAN_NSTEPS, SCAN_MIN, SCAN_MAX)\n",
    "    # file produced by the macro\n",
    "    f = ROOT.TFile.Open(\"Asym_CLs_grid_ts3_test.root\")\n",
    "    r = f.Get(\"result_xsection_x_br\")\n",
    "    gr_observed.SetPoint(imH, mH_value, r.UpperLimit())"
   ]
  },
  {
   "cell_type": "code",
   "execution_count": null,
   "metadata": {},
   "outputs": [],
   "source": [
    "canvas = ROOT.TCanvas()\n",
    "gr_observed.Draw(\"APL\")\n",
    "gr_observed.GetYaxis().SetTitle('excluded cross section @ 95% CL')\n",
    "gr_observed.GetXaxis().SetTitle('m_{H} [GeV]')\n",
    "\n",
    "canvas.Draw()\n",
    "\n",
    "# remember that we have defined the SM to have signal cross-section = 0.1"
   ]
  },
  {
   "cell_type": "markdown",
   "metadata": {},
   "source": [
    "*** Exercize ***: finish the exercize adding the expected with the +/- 1, 2 sigma bands to get the brazilian plot. Use `r.GetExpectedUpperLimit()`, `r.GetExpectedUpperLimit(+1)`, `GetExpectedUpperLimit(-1)`, ... Best way is to use `TGraphAsymmErrors` plotting with `E3` option."
   ]
  },
  {
   "cell_type": "code",
   "execution_count": null,
   "metadata": {
    "collapsed": true
   },
   "outputs": [],
   "source": []
  }
 ],
 "metadata": {
  "kernelspec": {
   "display_name": "Python 2",
   "language": "python",
   "name": "python2"
  },
  "language_info": {
   "codemirror_mode": {
    "name": "ipython",
    "version": 2
   },
   "file_extension": ".py",
   "mimetype": "text/x-python",
   "name": "python",
   "nbconvert_exporter": "python",
   "pygments_lexer": "ipython2",
   "version": "2.7.13"
  }
 },
 "nbformat": 4,
 "nbformat_minor": 2
}
