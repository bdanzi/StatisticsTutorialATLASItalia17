{
 "cells": [
  {
   "cell_type": "markdown",
   "metadata": {},
   "source": [
    "## Setup\n",
    "\n",
    "Import ROOT and set some configurations"
   ]
  },
  {
   "cell_type": "code",
   "execution_count": null,
   "metadata": {},
   "outputs": [],
   "source": [
    "import ROOT\n",
    "\n",
    "# silence most of the roofit message (bug in ROOT saturate jupyter stream)\n",
    "ROOT.RooMsgService.instance().getStream(1).removeTopic(ROOT.RooFit.NumIntegration)\n",
    "ROOT.RooMsgService.instance().getStream(1).removeTopic(ROOT.RooFit.Fitting)\n",
    "ROOT.RooMsgService.instance().getStream(1).removeTopic(ROOT.RooFit.Minimization)\n",
    "ROOT.RooMsgService.instance().getStream(1).removeTopic(ROOT.RooFit.InputArguments)\n",
    "ROOT.RooMsgService.instance().getStream(1).removeTopic(ROOT.RooFit.Eval)\n",
    "ROOT.RooMsgService.instance().setGlobalKillBelow(ROOT.RooFit.ERROR)\n",
    "\n",
    "ROOT.RooStats.AsymptoticCalculator.SetPrintLevel(-1)\n",
    "\n",
    "ROOT.enableJSVis()"
   ]
  },
  {
   "cell_type": "markdown",
   "metadata": {},
   "source": [
    "Add some sugar. With this you will get exceptions instead of null pointers errors. Just execute and pass over."
   ]
  },
  {
   "cell_type": "code",
   "execution_count": null,
   "metadata": {
    "collapsed": true
   },
   "outputs": [],
   "source": [
    "def safe_factory(func):\n",
    "    def wrapper(self, *args):\n",
    "        result = func(self, *args)\n",
    "        if not result:\n",
    "            raise ValueError('invalid factory input \"%s\"' % args)\n",
    "        return result\n",
    "    return wrapper\n",
    "\n",
    "ROOT.RooWorkspace.factory = safe_factory(ROOT.RooWorkspace.factory)\n",
    "\n",
    "def safe_decorator(func):\n",
    "    def wrapper(self, *args):\n",
    "        result = func(self, *args)\n",
    "        if not result:\n",
    "            raise ValueError('cannot find %s' % args[0])\n",
    "        return result\n",
    "    return wrapper\n",
    "\n",
    "ROOT.RooWorkspace.data = safe_decorator(ROOT.RooWorkspace.data)\n",
    "ROOT.RooWorkspace.obj = safe_decorator(ROOT.RooWorkspace.obj)\n",
    "ROOT.RooWorkspace.var = safe_decorator(ROOT.RooWorkspace.var)\n",
    "ROOT.RooWorkspace.pdf = safe_decorator(ROOT.RooWorkspace.pdf)\n",
    "\n",
    "def loop_iterator(iterator):\n",
    "  object = iterator.Next()\n",
    "  while object:\n",
    "    yield object\n",
    "    object = iterator.Next()\n",
    "\n",
    "def iter_collection(rooAbsCollection):\n",
    "  iterator = rooAbsCollection.createIterator()\n",
    "  return loop_iterator(iterator)\n",
    "\n",
    "def show_graph(node):\n",
    "    \"\"\"\n",
    "    display the computational graph relative to a statistical model\n",
    "    \"\"\"\n",
    "    from IPython.display import HTML, IFrame, Image, SVG, Latex\n",
    "    import re\n",
    "    import os\n",
    "    prefix = \"graph_%s\" % node.GetName()\n",
    "    node.graphVizTree(\"%s.dot\" % prefix)\n",
    "    os.system(\"dot -Tsvg {0}.dot > {0}.svg; rm {0}.dot\".format(prefix))\n",
    "    s = SVG(\"{}.svg\".format(prefix))\n",
    "    s.data = re.sub(r'width=\"[0-9]+pt\"', r'width=\"90%\"', s.data)\n",
    "    s.data = re.sub(r'height=\"[0-9]+pt\"', r'height=\"\"', s.data);\n",
    "    return s\n",
    "\n",
    "def import_ws(ws, obj):\n",
    "    # dear ROOT: `import` is a keyword in python\n",
    "    getattr(ws, 'import')(obj)\n",
    "    \n",
    "# ROOT.RooDataSet.setDefaultStorageType(ROOT.RooAbsData.Tree)"
   ]
  },
  {
   "cell_type": "markdown",
   "metadata": {},
   "source": [
    "## Create workspace\n",
    "Our model is a mixture of background and signal. Our observable is the invariant mass, which is not just an integer counting the number of events, but it is a continuos variable: our analysis is a shape analysis.\n",
    "\n",
    "The shape of the signal is a simple gaussian, for the background an exponential.\n",
    "\n",
    "The signal is described by the truth value of the mass (mH) which is assumed to be equal to the position of the gaussian peak. The number of signal events is expressed as the product of luminosity, cross section (times branching ratio) and efficiency. The cross section is the parameter of intereset. We assume systematic on the luminosity, efficiency and resolution.\n",
    "\n",
    "Since all the parameters of the background are data-driven, we are fitting the model to data to get the parameters of the background using a s+b fit. Since the background is data-driven there are no systematic on it. The only a-priori assumption is the kind of function used to model the shape (exponential): for simplicity no systematic is added.\n",
    "\n"
   ]
  },
  {
   "cell_type": "code",
   "execution_count": null,
   "metadata": {},
   "outputs": [],
   "source": [
    "# define some constants, values are in pb(^-1) and GeV\n",
    "PRESENT_LUMINOSITY = 50E3 \n",
    "XSECTION_X_BR_SM = 0.1 \n",
    "VISIBLE_XSECTION_BKG = 10  # the background will be fitted on data, here just an reasonable number\n",
    "\n",
    "ws = ROOT.RooWorkspace('ws')               # create the workspace\n",
    "mass = ws.factory(\"mass[105, 160]\")        # observable: invariant mass with a range\n",
    "# define the parameter of intereset (POI): we will fit / set limits on the signal cross section\n",
    "# discovery is based on the exclusion of cross section == 0\n",
    "ws.factory(\"xsection_x_br[-0.1, 0.5]\").setVal(XSECTION_X_BR_SM)  # pb\n",
    "poi = xsection = ws.var(\"xsection_x_br\")\n",
    "ws.factory('nominal_efficiency[0.5]')\n",
    "ws.factory('nominal_luminosity[10E3]')     # only 10/fb\n",
    "ws.factory('nominal_resolution[1]')        # nominal mass detector resolution at ~125 GeV\n",
    "\n",
    "# relative uncertainties\n",
    "ws.factory('sigma_luminosity[0.05]')       # luminosity uncertainty on the signal yield\n",
    "ws.factory('sigma_efficiency[0.02]')       # efficiency uncertainty on the signal yield\n",
    "ws.factory('sigma_resolution[0.02]')       # energy resolution uncertainty on the peak width\n",
    "\n",
    "# the background parameters (number of events and slope of the shape) are not know\n",
    "# we are setting them to a reasonable values here, but we will set them to the best value\n",
    "# from a signal+background fit on data\n",
    "ws.factory('bkg_slope[-0.02, -0.5, -0.001]')\n",
    "ws.factory('xsection_bkg[0, 100E3]').setVal(VISIBLE_XSECTION_BKG)\n",
    "# parametrize the number of background events as a functinon of the luminosity so that\n",
    "# we can do extrapolation to different luminosities\n",
    "ws.factory('prod:nbkg(nominal_luminosity, xsection_bkg)')\n",
    "\n",
    "# signal parameters\n",
    "ws.factory(\"mH[125, 110, 145]\").setConstant()   # mass of the resonance [GeV]\n",
    "                                                # forget about natural width, dominated by det resolution\n",
    "\n",
    "# signal peak position\n",
    "ws.factory('expr:peak(\"@0\", {mH})')   # peak position for signal, assume it to be equal to mH\n",
    "# signal width\n",
    "ws.factory('expr:resolution(\"@0 * (1 + @1 * @2)\", {nominal_resolution, sigma_resolution, theta_resolution[0, -5, 5]})')\n",
    "# signal shape\n",
    "signal = ws.factory(\"RooGaussian:signal_shape(mass, peak, resolution)\")\n",
    "\n",
    "# luminosity\n",
    "ws.factory('expr:luminosity(\"@0 * (exp(@1 * @2))\", {nominal_luminosity, sigma_luminosity, theta_luminosity[0, -5, 5]})')\n",
    "# efficiency\n",
    "ws.factory('expr:efficiency(\"@0 * (exp(@1 * @2))\", {nominal_efficiency, sigma_efficiency, theta_efficiency[0, -5, 5]})')\n",
    "# expected signal theory\n",
    "ws.factory('prod:nsignal(luminosity, xsection_x_br, efficiency)')\n",
    "\n",
    "# background shape\n",
    "ws.factory(\"RooExponential:background_shape(mass, bkg_slope)\")\n",
    "# no uncertainty on background since it is fully data-driven\n",
    "\n",
    "ws.factory(\"SUM:phys_pdf(nsignal * signal_shape, nbkg * background_shape)\")\n",
    "ws.factory(\"RooGaussian:constrain_resolution(global_resolution[0, -5, 5], theta_resolution, 1)\")\n",
    "ws.factory(\"RooGaussian:constrain_luminosity(global_luminosity[0, -5, 5], theta_luminosity, 1)\")\n",
    "ws.factory(\"RooGaussian:constrain_efficiency(global_efficiency[0, -5, 5], theta_efficiency, 1)\")\n",
    "ws.factory(\"PROD:constraints(constrain_luminosity, constrain_resolution, constrain_efficiency)\")\n",
    "\n",
    "ws.defineSet('global_observables', ws.allVars().selectByName('global_*'))\n",
    "ROOT.RooStats.SetAllConstant(ws.set('global_observables'))\n",
    "ws.defineSet('pulls', ws.allVars().selectByName('theta_*'))\n",
    "ws.defineSet('nuis', ws.set('pulls'))\n",
    "nuis = ws.set('nuis')\n",
    "nuis.add(ws.var('bkg_slope'))\n",
    "nuis.add(ws.var('xsection_bkg'))\n",
    "\n",
    "model = ws.factory(\"PROD:model(phys_pdf, constraints)\")\n",
    "\n",
    "# import real data from a TTree\n",
    "f = ROOT.TFile.Open('../data/real_data_10fb.root')\n",
    "tree = f.Get(\"data\")\n",
    "data_unbinned = ROOT.RooDataSet('data_unbinned', 'real data unbinned',\n",
    "                                ROOT.RooArgSet(mass),\n",
    "                                ROOT.RooFit.Import(tree))\n",
    "\n",
    "\n",
    "\n",
    "\n",
    "# since we have a lot of data it is more convenient to use a binned version of the data\n",
    "# (and of the likelihood, RooFit will manage that)\n",
    "data_binned = ROOT.RooDataHist(\"data_binned\", \"binned real data\", ROOT.RooArgSet(mass), data_unbinned)\n",
    "import_ws(ws, data_unbinned)\n",
    "import_ws(ws, data_binned)\n",
    "# since we don't know where the execess keep mH free just for this fit\n",
    "ws.var('mH').setConstant(False)\n",
    "print \"before fit\"\n",
    "print \"=\" * 80\n",
    "print \"bkg vis xsection: \", ws.var('xsection_bkg').getVal()\n",
    "print \"bkg slope: \", ws.var('bkg_slope').getVal()\n",
    "model.fitTo(data_binned, ROOT.RooFit.PrintLevel(-1))    # fit on data: only to get background parameters\n",
    "print \"after fit\"\n",
    "print \"=\" * 80\n",
    "print \"bkg vis xsection: \", ws.var('xsection_bkg').getVal()\n",
    "print \"bkg slope: \", ws.var('bkg_slope').getVal()\n",
    "ws.var('mH').setVal(125)           # reset mH value to our test value\n",
    "ws.var('mH').setConstant(True)     # we test each mH hypothesis one by one with separate tests\n",
    "ws.var('xsection_x_br').setVal(XSECTION_X_BR_SM)  # reset xsection to SM value\n",
    "\n",
    "# in case we want to go back to this values, save a snapshot of all the variables\n",
    "ws.saveSnapshot('data_fit', ws.allVars())\n",
    "\n",
    "# create the model configs\n",
    "# model config are needed to specify the meaning of the variables from the\n",
    "# interference point of view: what are the observables, the nuisance parameters, ...\n",
    "# start from a generic model config\n",
    "model_config = ROOT.RooStats.ModelConfig('model_config', ws)\n",
    "model_config.SetPdf('model')\n",
    "model_config.SetParametersOfInterest('xsection_x_br')\n",
    "model_config.SetNuisanceParameters(ws.set(\"nuis\"))\n",
    "model_config.SetGlobalObservables(ws.allVars().selectByName(\"global_*\"))\n",
    "model_config.SetObservables('mass')\n",
    "import_ws(ws, model_config)\n",
    "\n",
    "# create a model config with nominal signal\n",
    "sb_model_config = model_config.Clone()\n",
    "sb_model_config.SetName(\"sb_model_config\");      \n",
    "xsection.setVal(XSECTION_X_BR_SM)\n",
    "sb_model_config.SetSnapshot(ROOT.RooArgSet(poi))\n",
    "import_ws(ws, sb_model_config)\n",
    "\n",
    "# create a model config without signal\n",
    "b_model_config = sb_model_config.Clone()\n",
    "b_model_config.SetName(\"b_model_config\")\n",
    "poi.setVal(0)\n",
    "b_model_config.SetSnapshot(ROOT.RooArgSet(poi))\n",
    "import_ws(ws, b_model_config)\n",
    "\n",
    "\n",
    "# creta datasets (toy and Asimov) based on the SM values (s+b)\n",
    "poi.setVal(XSECTION_X_BR_SM)\n",
    "data_toy_unbinned = model.generate(model_config.GetObservables())\n",
    "data_toy_binned = model.generateBinned(model_config.GetObservables())\n",
    "data_asimov = model.generateBinned(model_config.GetObservables(), ROOT.RooFit.ExpectedData())\n",
    "data_toy_binned.SetName('data_toy_binned')\n",
    "data_asimov.SetName('data_asimov')\n",
    "\n",
    "import_ws(ws, data_toy_binned)\n",
    "import_ws(ws, data_asimov)\n",
    "\n",
    "ws.writeToFile('workspace.root')"
   ]
  },
  {
   "cell_type": "markdown",
   "metadata": {},
   "source": [
    "***EXERCIZE (skip)***: add an uncertainty on the mass-scale with a gaussian constrain of few per-mill\n",
    "\n",
    "***EXERCIZE (skip)***: add toy sample in the workspace with no signal"
   ]
  },
  {
   "cell_type": "markdown",
   "metadata": {},
   "source": [
    "## Debug the workspace\n",
    "Plot the computational graph"
   ]
  },
  {
   "cell_type": "code",
   "execution_count": null,
   "metadata": {
    "collapsed": true
   },
   "outputs": [],
   "source": [
    "show_graph(ws.pdf('signal_shape'))  # only the signal model"
   ]
  },
  {
   "cell_type": "code",
   "execution_count": null,
   "metadata": {
    "collapsed": true
   },
   "outputs": [],
   "source": [
    "show_graph(ws.pdf('phys_pdf'))  # signal + background pdf (no constraints)"
   ]
  },
  {
   "cell_type": "code",
   "execution_count": null,
   "metadata": {
    "collapsed": true
   },
   "outputs": [],
   "source": [
    "show_graph(model)  # full model"
   ]
  },
  {
   "cell_type": "markdown",
   "metadata": {},
   "source": [
    "## Signal shape"
   ]
  },
  {
   "cell_type": "code",
   "execution_count": null,
   "metadata": {
    "collapsed": true
   },
   "outputs": [],
   "source": [
    "canvas = ROOT.TCanvas()\n",
    "frame = mass.frame()\n",
    "for mH_value in [110, 120, 150]:\n",
    "    ws.var('mH').setVal(mH_value)\n",
    "    ws.pdf('signal_shape').plotOn(frame)\n",
    "ws.loadSnapshot('data_fit')\n",
    "frame.Draw()\n",
    "canvas.Draw()"
   ]
  },
  {
   "cell_type": "markdown",
   "metadata": {},
   "source": [
    "Check the value of parameters affected by systematics"
   ]
  },
  {
   "cell_type": "code",
   "execution_count": null,
   "metadata": {
    "collapsed": true
   },
   "outputs": [],
   "source": [
    "canvas = ROOT.TCanvas(\"\", \"\", 800, 300)\n",
    "effects = ['efficiency', 'luminosity', 'resolution']\n",
    "canvas.DivideSquare(len(effects))\n",
    "for i, effect in enumerate(effects, 1):\n",
    "    canvas.cd(i)\n",
    "    frame = ws.var('theta_%s' % effect).frame()\n",
    "    ws.obj(effect).plotOn(frame)\n",
    "    frame.Draw()\n",
    "    canvas.cd(i).SetGrid()\n",
    "canvas.Draw()"
   ]
  },
  {
   "cell_type": "markdown",
   "metadata": {},
   "source": [
    "Try to fit on Asimov, should get the same parameters used to generate the Asimov"
   ]
  },
  {
   "cell_type": "code",
   "execution_count": null,
   "metadata": {
    "collapsed": true
   },
   "outputs": [],
   "source": [
    "fit_result = model.fitTo(data_asimov,\n",
    "                         ROOT.RooFit.Minos(),\n",
    "                         ROOT.RooFit.PrintLevel(-1),\n",
    "                         ROOT.RooFit.Save())\n",
    "fit_result.Print(\"V\")"
   ]
  },
  {
   "cell_type": "markdown",
   "metadata": {},
   "source": [
    "## Check expected correlations"
   ]
  },
  {
   "cell_type": "code",
   "execution_count": null,
   "metadata": {
    "collapsed": true
   },
   "outputs": [],
   "source": [
    "ROOT.gStyle.SetPalette(ROOT.kThermometer)  # why not working?\n",
    "canvas = ROOT.TCanvas()\n",
    "correlation_matrix = fit_result.correlationHist()\n",
    "correlation_matrix.Draw(\"textcolz\")\n",
    "correlation_matrix.GetZaxis().SetRangeUser(-0.6, 0.6)\n",
    "canvas.Draw()"
   ]
  },
  {
   "cell_type": "markdown",
   "metadata": {},
   "source": [
    "# Visualize\n",
    "Plot Asimov dataset with its fit, with all the components. The signal peak is quite small by eye, but thanks to the high statistics, it is quite significative"
   ]
  },
  {
   "cell_type": "code",
   "execution_count": null,
   "metadata": {
    "collapsed": true
   },
   "outputs": [],
   "source": [
    "mass_frame = mass.frame()\n",
    "data_asimov.plotOn(mass_frame, ROOT.RooFit.Name('curve_data'))\n",
    "\n",
    "model.plotOn(mass_frame, ROOT.RooFit.VisualizeError(fit_result, 3),\n",
    "             ROOT.RooFit.Name('curve_signal_background_fit'))\n",
    "\n",
    "model.plotOn(mass_frame, ROOT.RooFit.Components('background_shape'),\n",
    "             ROOT.RooFit.LineStyle(ROOT.kDashed),\n",
    "             ROOT.RooFit.Name('curve_background_component'))\n",
    "\n",
    "model.plotOn(mass_frame, ROOT.RooFit.Components('signal_shape'),\n",
    "             ROOT.RooFit.LineStyle(ROOT.kDashed),\n",
    "             ROOT.RooFit.Name('curve_signal_component'))\n",
    "\n",
    "data_asimov.plotOn(mass_frame)\n",
    "\n",
    "canvas = ROOT.TCanvas()\n",
    "mass_frame.Draw()\n",
    "canvas.Draw()"
   ]
  },
  {
   "cell_type": "markdown",
   "metadata": {},
   "source": [
    "*** Exercize (skip) *** Plot the pulls (data - fit) / error for each bin (se RooFrame::pullHist)"
   ]
  },
  {
   "cell_type": "code",
   "execution_count": null,
   "metadata": {
    "collapsed": true
   },
   "outputs": [],
   "source": [
    "canvas = ROOT.TCanvas()\n",
    "# FILL HERE\n",
    "canvas.Draw()"
   ]
  },
  {
   "cell_type": "markdown",
   "metadata": {},
   "source": [
    "Check the number of fitted signal and backgrounde events"
   ]
  },
  {
   "cell_type": "code",
   "execution_count": null,
   "metadata": {
    "collapsed": true
   },
   "outputs": [],
   "source": [
    "print 'nsignal', ws.obj('nsignal').getVal()\n",
    "print 'nbackground', ws.obj('nbkg').getVal()"
   ]
  },
  {
   "cell_type": "markdown",
   "metadata": {},
   "source": [
    "Check which variables are constant or free in the model"
   ]
  },
  {
   "cell_type": "code",
   "execution_count": null,
   "metadata": {
    "collapsed": true
   },
   "outputs": [],
   "source": [
    "# print constant variables\n",
    "ws.allVars().selectByAttrib(\"Constant\", True).Print(\"V\")"
   ]
  },
  {
   "cell_type": "code",
   "execution_count": null,
   "metadata": {
    "collapsed": true
   },
   "outputs": [],
   "source": [
    "# print non-constant variable (may be fitted)\n",
    "ws.allVars().selectByAttrib(\"Constant\", False).Print(\"V\")"
   ]
  },
  {
   "cell_type": "code",
   "execution_count": null,
   "metadata": {
    "collapsed": true
   },
   "outputs": [],
   "source": [
    "model_config.GetNuisanceParameters().Print(\"V\")"
   ]
  },
  {
   "cell_type": "markdown",
   "metadata": {},
   "source": [
    "## Check the pulls\n",
    "\n",
    "It is important to check that the nuisance parameters are compatible with 0, otherwise it means that there is a tension between our channel and the axiliary measurement (efficiency measurent, energy scale, ...). Usually channels are not sensitive to constrain systematic effects (otherwise these would have been used to do the measurement)."
   ]
  },
  {
   "cell_type": "code",
   "execution_count": null,
   "metadata": {
    "collapsed": true
   },
   "outputs": [],
   "source": [
    "ws.set('pulls').Print(\"V\")"
   ]
  }
 ],
 "metadata": {
  "kernelspec": {
   "display_name": "Python 2",
   "language": "python",
   "name": "python2"
  },
  "language_info": {
   "codemirror_mode": {
    "name": "ipython",
    "version": 2
   },
   "file_extension": ".py",
   "mimetype": "text/x-python",
   "name": "python",
   "nbconvert_exporter": "python",
   "pygments_lexer": "ipython2",
   "version": "2.7.13"
  }
 },
 "nbformat": 4,
 "nbformat_minor": 2
}
